{
  "nbformat": 4,
  "nbformat_minor": 0,
  "metadata": {
    "colab": {
      "name": "Untitled0.ipynb",
      "provenance": []
    },
    "kernelspec": {
      "name": "python3",
      "display_name": "Python 3"
    },
    "language_info": {
      "name": "python"
    }
  },
  "cells": [
    {
      "cell_type": "code",
      "metadata": {
        "id": "Kee2D3GKx-gM"
      },
      "source": [
        "import pandas as pd\n"
      ],
      "execution_count": 72,
      "outputs": []
    },
    {
      "cell_type": "code",
      "metadata": {
        "colab": {
          "base_uri": "https://localhost:8080/"
        },
        "id": "otq2pZUQ1AbA",
        "outputId": "156378d9-4743-46d3-d615-9f51e4bb539f"
      },
      "source": [
        "!wget https://github.com/alamhanz/pandas_journey/blob/main/mydata/food_delivery_datasets.csv"
      ],
      "execution_count": 10,
      "outputs": [
        {
          "output_type": "stream",
          "name": "stdout",
          "text": [
            "--2021-10-06 09:04:54--  https://github.com/alamhanz/pandas_journey/blob/main/mydata/food_delivery_datasets.csv\n",
            "Resolving github.com (github.com)... 140.82.114.3\n",
            "Connecting to github.com (github.com)|140.82.114.3|:443... connected.\n",
            "HTTP request sent, awaiting response... 200 OK\n",
            "Length: unspecified [text/html]\n",
            "Saving to: ‘food_delivery_datasets.csv’\n",
            "\n",
            "food_delivery_datas     [ <=>                ] 661.30K  --.-KB/s    in 0.06s   \n",
            "\n",
            "2021-10-06 09:04:54 (10.3 MB/s) - ‘food_delivery_datasets.csv’ saved [677167]\n",
            "\n"
          ]
        }
      ]
    },
    {
      "cell_type": "code",
      "metadata": {
        "id": "sjFdwr0_1Xr_"
      },
      "source": [
        "read=pd.read_csv('/content/food_delivery_datasets.csv')"
      ],
      "execution_count": 13,
      "outputs": []
    },
    {
      "cell_type": "code",
      "metadata": {
        "id": "XVg_yM5G21yX"
      },
      "source": [
        "df=read[['order_id','food_price','rating']]"
      ],
      "execution_count": 102,
      "outputs": []
    },
    {
      "cell_type": "code",
      "metadata": {
        "colab": {
          "base_uri": "https://localhost:8080/",
          "height": 417
        },
        "id": "57WYqOGkENm4",
        "outputId": "74aac84b-f3fd-4c41-8a88-826a4618d162"
      },
      "source": [
        "df"
      ],
      "execution_count": 114,
      "outputs": [
        {
          "output_type": "execute_result",
          "data": {
            "text/html": [
              "<div>\n",
              "<style scoped>\n",
              "    .dataframe tbody tr th:only-of-type {\n",
              "        vertical-align: middle;\n",
              "    }\n",
              "\n",
              "    .dataframe tbody tr th {\n",
              "        vertical-align: top;\n",
              "    }\n",
              "\n",
              "    .dataframe thead th {\n",
              "        text-align: right;\n",
              "    }\n",
              "</style>\n",
              "<table border=\"1\" class=\"dataframe\">\n",
              "  <thead>\n",
              "    <tr style=\"text-align: right;\">\n",
              "      <th></th>\n",
              "      <th>order_id</th>\n",
              "      <th>food_price</th>\n",
              "      <th>rating</th>\n",
              "      <th>date_time</th>\n",
              "    </tr>\n",
              "  </thead>\n",
              "  <tbody>\n",
              "    <tr>\n",
              "      <th>0</th>\n",
              "      <td>FOOD-10455</td>\n",
              "      <td>18900</td>\n",
              "      <td>5.0</td>\n",
              "      <td>2018-08-12 21:00:00</td>\n",
              "    </tr>\n",
              "    <tr>\n",
              "      <th>1</th>\n",
              "      <td>FOOD-10985</td>\n",
              "      <td>149000</td>\n",
              "      <td>5.0</td>\n",
              "      <td>2018-09-23 18:00:00</td>\n",
              "    </tr>\n",
              "    <tr>\n",
              "      <th>2</th>\n",
              "      <td>FOOD-10911</td>\n",
              "      <td>43800</td>\n",
              "      <td>NaN</td>\n",
              "      <td>2018-09-19 18:00:00</td>\n",
              "    </tr>\n",
              "    <tr>\n",
              "      <th>3</th>\n",
              "      <td>FOOD-10932</td>\n",
              "      <td>39900</td>\n",
              "      <td>5.0</td>\n",
              "      <td>2018-09-21 01:00:00</td>\n",
              "    </tr>\n",
              "    <tr>\n",
              "      <th>4</th>\n",
              "      <td>FOOD-10961</td>\n",
              "      <td>77700</td>\n",
              "      <td>NaN</td>\n",
              "      <td>2018-09-22 18:00:00</td>\n",
              "    </tr>\n",
              "    <tr>\n",
              "      <th>...</th>\n",
              "      <td>...</td>\n",
              "      <td>...</td>\n",
              "      <td>...</td>\n",
              "      <td>...</td>\n",
              "    </tr>\n",
              "    <tr>\n",
              "      <th>1071</th>\n",
              "      <td>FOOD-10921</td>\n",
              "      <td>103200</td>\n",
              "      <td>5.0</td>\n",
              "      <td>2018-09-20 15:00:00</td>\n",
              "    </tr>\n",
              "    <tr>\n",
              "      <th>1072</th>\n",
              "      <td>FOOD-10265</td>\n",
              "      <td>145700</td>\n",
              "      <td>5.0</td>\n",
              "      <td>2018-07-26 15:00:00</td>\n",
              "    </tr>\n",
              "    <tr>\n",
              "      <th>1073</th>\n",
              "      <td>FOOD-10534</td>\n",
              "      <td>177200</td>\n",
              "      <td>NaN</td>\n",
              "      <td>2018-08-21 20:00:00</td>\n",
              "    </tr>\n",
              "    <tr>\n",
              "      <th>1074</th>\n",
              "      <td>FOOD-10158</td>\n",
              "      <td>49300</td>\n",
              "      <td>5.0</td>\n",
              "      <td>2018-07-16 15:00:00</td>\n",
              "    </tr>\n",
              "    <tr>\n",
              "      <th>1075</th>\n",
              "      <td>FOOD-10770</td>\n",
              "      <td>43000</td>\n",
              "      <td>5.0</td>\n",
              "      <td>2018-09-11 14:00:00</td>\n",
              "    </tr>\n",
              "  </tbody>\n",
              "</table>\n",
              "<p>1076 rows × 4 columns</p>\n",
              "</div>"
            ],
            "text/plain": [
              "        order_id  food_price  rating           date_time\n",
              "0     FOOD-10455       18900     5.0 2018-08-12 21:00:00\n",
              "1     FOOD-10985      149000     5.0 2018-09-23 18:00:00\n",
              "2     FOOD-10911       43800     NaN 2018-09-19 18:00:00\n",
              "3     FOOD-10932       39900     5.0 2018-09-21 01:00:00\n",
              "4     FOOD-10961       77700     NaN 2018-09-22 18:00:00\n",
              "...          ...         ...     ...                 ...\n",
              "1071  FOOD-10921      103200     5.0 2018-09-20 15:00:00\n",
              "1072  FOOD-10265      145700     5.0 2018-07-26 15:00:00\n",
              "1073  FOOD-10534      177200     NaN 2018-08-21 20:00:00\n",
              "1074  FOOD-10158       49300     5.0 2018-07-16 15:00:00\n",
              "1075  FOOD-10770       43000     5.0 2018-09-11 14:00:00\n",
              "\n",
              "[1076 rows x 4 columns]"
            ]
          },
          "metadata": {},
          "execution_count": 114
        }
      ]
    },
    {
      "cell_type": "code",
      "metadata": {
        "colab": {
          "base_uri": "https://localhost:8080/"
        },
        "id": "J9YIvTa_6qtn",
        "outputId": "49eb3490-2c2e-4b93-e9ec-48de4c2d360f"
      },
      "source": [
        "df.shape"
      ],
      "execution_count": 103,
      "outputs": [
        {
          "output_type": "execute_result",
          "data": {
            "text/plain": [
              "(1076, 3)"
            ]
          },
          "metadata": {},
          "execution_count": 103
        }
      ]
    },
    {
      "cell_type": "code",
      "metadata": {
        "id": "Xwz3EwXe6WS4"
      },
      "source": [
        "z=df[df['rating']>=3]"
      ],
      "execution_count": 104,
      "outputs": []
    },
    {
      "cell_type": "code",
      "metadata": {
        "colab": {
          "base_uri": "https://localhost:8080/",
          "height": 417
        },
        "id": "vXFXAjISdMUl",
        "outputId": "8ef899ae-a72a-4b4a-fdf6-89e2596716fb"
      },
      "source": [
        "z"
      ],
      "execution_count": 115,
      "outputs": [
        {
          "output_type": "execute_result",
          "data": {
            "text/html": [
              "<div>\n",
              "<style scoped>\n",
              "    .dataframe tbody tr th:only-of-type {\n",
              "        vertical-align: middle;\n",
              "    }\n",
              "\n",
              "    .dataframe tbody tr th {\n",
              "        vertical-align: top;\n",
              "    }\n",
              "\n",
              "    .dataframe thead th {\n",
              "        text-align: right;\n",
              "    }\n",
              "</style>\n",
              "<table border=\"1\" class=\"dataframe\">\n",
              "  <thead>\n",
              "    <tr style=\"text-align: right;\">\n",
              "      <th></th>\n",
              "      <th>order_id</th>\n",
              "      <th>food_price</th>\n",
              "      <th>rating</th>\n",
              "    </tr>\n",
              "  </thead>\n",
              "  <tbody>\n",
              "    <tr>\n",
              "      <th>0</th>\n",
              "      <td>FOOD-10455</td>\n",
              "      <td>18900</td>\n",
              "      <td>5.0</td>\n",
              "    </tr>\n",
              "    <tr>\n",
              "      <th>1</th>\n",
              "      <td>FOOD-10985</td>\n",
              "      <td>149000</td>\n",
              "      <td>5.0</td>\n",
              "    </tr>\n",
              "    <tr>\n",
              "      <th>3</th>\n",
              "      <td>FOOD-10932</td>\n",
              "      <td>39900</td>\n",
              "      <td>5.0</td>\n",
              "    </tr>\n",
              "    <tr>\n",
              "      <th>5</th>\n",
              "      <td>FOOD-10004</td>\n",
              "      <td>138800</td>\n",
              "      <td>5.0</td>\n",
              "    </tr>\n",
              "    <tr>\n",
              "      <th>6</th>\n",
              "      <td>FOOD-10953</td>\n",
              "      <td>58700</td>\n",
              "      <td>5.0</td>\n",
              "    </tr>\n",
              "    <tr>\n",
              "      <th>...</th>\n",
              "      <td>...</td>\n",
              "      <td>...</td>\n",
              "      <td>...</td>\n",
              "    </tr>\n",
              "    <tr>\n",
              "      <th>1068</th>\n",
              "      <td>FOOD-10430</td>\n",
              "      <td>80600</td>\n",
              "      <td>5.0</td>\n",
              "    </tr>\n",
              "    <tr>\n",
              "      <th>1071</th>\n",
              "      <td>FOOD-10921</td>\n",
              "      <td>103200</td>\n",
              "      <td>5.0</td>\n",
              "    </tr>\n",
              "    <tr>\n",
              "      <th>1072</th>\n",
              "      <td>FOOD-10265</td>\n",
              "      <td>145700</td>\n",
              "      <td>5.0</td>\n",
              "    </tr>\n",
              "    <tr>\n",
              "      <th>1074</th>\n",
              "      <td>FOOD-10158</td>\n",
              "      <td>49300</td>\n",
              "      <td>5.0</td>\n",
              "    </tr>\n",
              "    <tr>\n",
              "      <th>1075</th>\n",
              "      <td>FOOD-10770</td>\n",
              "      <td>43000</td>\n",
              "      <td>5.0</td>\n",
              "    </tr>\n",
              "  </tbody>\n",
              "</table>\n",
              "<p>597 rows × 3 columns</p>\n",
              "</div>"
            ],
            "text/plain": [
              "        order_id  food_price  rating\n",
              "0     FOOD-10455       18900     5.0\n",
              "1     FOOD-10985      149000     5.0\n",
              "3     FOOD-10932       39900     5.0\n",
              "5     FOOD-10004      138800     5.0\n",
              "6     FOOD-10953       58700     5.0\n",
              "...          ...         ...     ...\n",
              "1068  FOOD-10430       80600     5.0\n",
              "1071  FOOD-10921      103200     5.0\n",
              "1072  FOOD-10265      145700     5.0\n",
              "1074  FOOD-10158       49300     5.0\n",
              "1075  FOOD-10770       43000     5.0\n",
              "\n",
              "[597 rows x 3 columns]"
            ]
          },
          "metadata": {},
          "execution_count": 115
        }
      ]
    },
    {
      "cell_type": "code",
      "metadata": {
        "colab": {
          "base_uri": "https://localhost:8080/"
        },
        "id": "jNm70POw_CMY",
        "outputId": "471372c5-dc5d-4155-c9f8-046551e1c8df"
      },
      "source": [
        "z.shape"
      ],
      "execution_count": 105,
      "outputs": [
        {
          "output_type": "execute_result",
          "data": {
            "text/plain": [
              "(597, 3)"
            ]
          },
          "metadata": {},
          "execution_count": 105
        }
      ]
    },
    {
      "cell_type": "code",
      "metadata": {
        "colab": {
          "base_uri": "https://localhost:8080/"
        },
        "id": "tVZK75SG6plX",
        "outputId": "019b2027-be42-4ca7-c956-daab33152f9a"
      },
      "source": [
        "df['date_time'] = pd.to_datetime(read['date_time']).dt.round('H')\n",
        "a = df['date_time'].dt.strftime('%A')\n",
        "b = df['date_time'].dt.strftime('%H:%M')\n",
        "\n",
        "time = pd.concat([ a, b], axis=1)\n",
        "time.columns = ['days', 'time']\n"
      ],
      "execution_count": 106,
      "outputs": [
        {
          "output_type": "stream",
          "name": "stderr",
          "text": [
            "/usr/local/lib/python3.7/dist-packages/ipykernel_launcher.py:1: SettingWithCopyWarning: \n",
            "A value is trying to be set on a copy of a slice from a DataFrame.\n",
            "Try using .loc[row_indexer,col_indexer] = value instead\n",
            "\n",
            "See the caveats in the documentation: https://pandas.pydata.org/pandas-docs/stable/user_guide/indexing.html#returning-a-view-versus-a-copy\n",
            "  \"\"\"Entry point for launching an IPython kernel.\n"
          ]
        }
      ]
    },
    {
      "cell_type": "code",
      "metadata": {
        "colab": {
          "base_uri": "https://localhost:8080/",
          "height": 417
        },
        "id": "30PdqsFS-Pwo",
        "outputId": "c9090c9c-60be-40c1-9ecf-77fb9a4af103"
      },
      "source": [
        ""
      ],
      "execution_count": 76,
      "outputs": [
        {
          "output_type": "execute_result",
          "data": {
            "text/html": [
              "<div>\n",
              "<style scoped>\n",
              "    .dataframe tbody tr th:only-of-type {\n",
              "        vertical-align: middle;\n",
              "    }\n",
              "\n",
              "    .dataframe tbody tr th {\n",
              "        vertical-align: top;\n",
              "    }\n",
              "\n",
              "    .dataframe thead th {\n",
              "        text-align: right;\n",
              "    }\n",
              "</style>\n",
              "<table border=\"1\" class=\"dataframe\">\n",
              "  <thead>\n",
              "    <tr style=\"text-align: right;\">\n",
              "      <th></th>\n",
              "      <th>days</th>\n",
              "      <th>time</th>\n",
              "    </tr>\n",
              "  </thead>\n",
              "  <tbody>\n",
              "    <tr>\n",
              "      <th>0</th>\n",
              "      <td>Sunday</td>\n",
              "      <td>21:00</td>\n",
              "    </tr>\n",
              "    <tr>\n",
              "      <th>1</th>\n",
              "      <td>Sunday</td>\n",
              "      <td>18:00</td>\n",
              "    </tr>\n",
              "    <tr>\n",
              "      <th>2</th>\n",
              "      <td>Wednesday</td>\n",
              "      <td>18:00</td>\n",
              "    </tr>\n",
              "    <tr>\n",
              "      <th>3</th>\n",
              "      <td>Friday</td>\n",
              "      <td>01:00</td>\n",
              "    </tr>\n",
              "    <tr>\n",
              "      <th>4</th>\n",
              "      <td>Saturday</td>\n",
              "      <td>18:00</td>\n",
              "    </tr>\n",
              "    <tr>\n",
              "      <th>...</th>\n",
              "      <td>...</td>\n",
              "      <td>...</td>\n",
              "    </tr>\n",
              "    <tr>\n",
              "      <th>1071</th>\n",
              "      <td>Thursday</td>\n",
              "      <td>15:00</td>\n",
              "    </tr>\n",
              "    <tr>\n",
              "      <th>1072</th>\n",
              "      <td>Thursday</td>\n",
              "      <td>15:00</td>\n",
              "    </tr>\n",
              "    <tr>\n",
              "      <th>1073</th>\n",
              "      <td>Tuesday</td>\n",
              "      <td>20:00</td>\n",
              "    </tr>\n",
              "    <tr>\n",
              "      <th>1074</th>\n",
              "      <td>Monday</td>\n",
              "      <td>15:00</td>\n",
              "    </tr>\n",
              "    <tr>\n",
              "      <th>1075</th>\n",
              "      <td>Tuesday</td>\n",
              "      <td>14:00</td>\n",
              "    </tr>\n",
              "  </tbody>\n",
              "</table>\n",
              "<p>1076 rows × 2 columns</p>\n",
              "</div>"
            ],
            "text/plain": [
              "           days   time\n",
              "0        Sunday  21:00\n",
              "1        Sunday  18:00\n",
              "2     Wednesday  18:00\n",
              "3        Friday  01:00\n",
              "4      Saturday  18:00\n",
              "...         ...    ...\n",
              "1071   Thursday  15:00\n",
              "1072   Thursday  15:00\n",
              "1073    Tuesday  20:00\n",
              "1074     Monday  15:00\n",
              "1075    Tuesday  14:00\n",
              "\n",
              "[1076 rows x 2 columns]"
            ]
          },
          "metadata": {},
          "execution_count": 76
        }
      ]
    },
    {
      "cell_type": "code",
      "metadata": {
        "id": "QX_YHhXr8XXP"
      },
      "source": [
        "total = pd.concat([ z, time], axis=1)"
      ],
      "execution_count": 107,
      "outputs": []
    },
    {
      "cell_type": "code",
      "metadata": {
        "colab": {
          "base_uri": "https://localhost:8080/",
          "height": 417
        },
        "id": "2BkIGwfe-9uO",
        "outputId": "f0a80585-df54-496b-8909-ddf22d0513ec"
      },
      "source": [
        "total"
      ],
      "execution_count": 108,
      "outputs": [
        {
          "output_type": "execute_result",
          "data": {
            "text/html": [
              "<div>\n",
              "<style scoped>\n",
              "    .dataframe tbody tr th:only-of-type {\n",
              "        vertical-align: middle;\n",
              "    }\n",
              "\n",
              "    .dataframe tbody tr th {\n",
              "        vertical-align: top;\n",
              "    }\n",
              "\n",
              "    .dataframe thead th {\n",
              "        text-align: right;\n",
              "    }\n",
              "</style>\n",
              "<table border=\"1\" class=\"dataframe\">\n",
              "  <thead>\n",
              "    <tr style=\"text-align: right;\">\n",
              "      <th></th>\n",
              "      <th>order_id</th>\n",
              "      <th>food_price</th>\n",
              "      <th>rating</th>\n",
              "      <th>days</th>\n",
              "      <th>time</th>\n",
              "    </tr>\n",
              "  </thead>\n",
              "  <tbody>\n",
              "    <tr>\n",
              "      <th>0</th>\n",
              "      <td>FOOD-10455</td>\n",
              "      <td>18900.0</td>\n",
              "      <td>5.0</td>\n",
              "      <td>Sunday</td>\n",
              "      <td>21:00</td>\n",
              "    </tr>\n",
              "    <tr>\n",
              "      <th>1</th>\n",
              "      <td>FOOD-10985</td>\n",
              "      <td>149000.0</td>\n",
              "      <td>5.0</td>\n",
              "      <td>Sunday</td>\n",
              "      <td>18:00</td>\n",
              "    </tr>\n",
              "    <tr>\n",
              "      <th>2</th>\n",
              "      <td>NaN</td>\n",
              "      <td>NaN</td>\n",
              "      <td>NaN</td>\n",
              "      <td>Wednesday</td>\n",
              "      <td>18:00</td>\n",
              "    </tr>\n",
              "    <tr>\n",
              "      <th>3</th>\n",
              "      <td>FOOD-10932</td>\n",
              "      <td>39900.0</td>\n",
              "      <td>5.0</td>\n",
              "      <td>Friday</td>\n",
              "      <td>01:00</td>\n",
              "    </tr>\n",
              "    <tr>\n",
              "      <th>4</th>\n",
              "      <td>NaN</td>\n",
              "      <td>NaN</td>\n",
              "      <td>NaN</td>\n",
              "      <td>Saturday</td>\n",
              "      <td>18:00</td>\n",
              "    </tr>\n",
              "    <tr>\n",
              "      <th>...</th>\n",
              "      <td>...</td>\n",
              "      <td>...</td>\n",
              "      <td>...</td>\n",
              "      <td>...</td>\n",
              "      <td>...</td>\n",
              "    </tr>\n",
              "    <tr>\n",
              "      <th>1071</th>\n",
              "      <td>FOOD-10921</td>\n",
              "      <td>103200.0</td>\n",
              "      <td>5.0</td>\n",
              "      <td>Thursday</td>\n",
              "      <td>15:00</td>\n",
              "    </tr>\n",
              "    <tr>\n",
              "      <th>1072</th>\n",
              "      <td>FOOD-10265</td>\n",
              "      <td>145700.0</td>\n",
              "      <td>5.0</td>\n",
              "      <td>Thursday</td>\n",
              "      <td>15:00</td>\n",
              "    </tr>\n",
              "    <tr>\n",
              "      <th>1073</th>\n",
              "      <td>NaN</td>\n",
              "      <td>NaN</td>\n",
              "      <td>NaN</td>\n",
              "      <td>Tuesday</td>\n",
              "      <td>20:00</td>\n",
              "    </tr>\n",
              "    <tr>\n",
              "      <th>1074</th>\n",
              "      <td>FOOD-10158</td>\n",
              "      <td>49300.0</td>\n",
              "      <td>5.0</td>\n",
              "      <td>Monday</td>\n",
              "      <td>15:00</td>\n",
              "    </tr>\n",
              "    <tr>\n",
              "      <th>1075</th>\n",
              "      <td>FOOD-10770</td>\n",
              "      <td>43000.0</td>\n",
              "      <td>5.0</td>\n",
              "      <td>Tuesday</td>\n",
              "      <td>14:00</td>\n",
              "    </tr>\n",
              "  </tbody>\n",
              "</table>\n",
              "<p>1076 rows × 5 columns</p>\n",
              "</div>"
            ],
            "text/plain": [
              "        order_id  food_price  rating       days   time\n",
              "0     FOOD-10455     18900.0     5.0     Sunday  21:00\n",
              "1     FOOD-10985    149000.0     5.0     Sunday  18:00\n",
              "2            NaN         NaN     NaN  Wednesday  18:00\n",
              "3     FOOD-10932     39900.0     5.0     Friday  01:00\n",
              "4            NaN         NaN     NaN   Saturday  18:00\n",
              "...          ...         ...     ...        ...    ...\n",
              "1071  FOOD-10921    103200.0     5.0   Thursday  15:00\n",
              "1072  FOOD-10265    145700.0     5.0   Thursday  15:00\n",
              "1073         NaN         NaN     NaN    Tuesday  20:00\n",
              "1074  FOOD-10158     49300.0     5.0     Monday  15:00\n",
              "1075  FOOD-10770     43000.0     5.0    Tuesday  14:00\n",
              "\n",
              "[1076 rows x 5 columns]"
            ]
          },
          "metadata": {},
          "execution_count": 108
        }
      ]
    },
    {
      "cell_type": "code",
      "metadata": {
        "id": "gjImaQPj_Yj_"
      },
      "source": [
        "total=total.dropna(axis=0)"
      ],
      "execution_count": 110,
      "outputs": []
    },
    {
      "cell_type": "code",
      "metadata": {
        "colab": {
          "base_uri": "https://localhost:8080/",
          "height": 417
        },
        "id": "E5Q0hd7rCphw",
        "outputId": "3b025148-a39a-4214-f826-dac16c8907f5"
      },
      "source": [
        "total"
      ],
      "execution_count": 111,
      "outputs": [
        {
          "output_type": "execute_result",
          "data": {
            "text/html": [
              "<div>\n",
              "<style scoped>\n",
              "    .dataframe tbody tr th:only-of-type {\n",
              "        vertical-align: middle;\n",
              "    }\n",
              "\n",
              "    .dataframe tbody tr th {\n",
              "        vertical-align: top;\n",
              "    }\n",
              "\n",
              "    .dataframe thead th {\n",
              "        text-align: right;\n",
              "    }\n",
              "</style>\n",
              "<table border=\"1\" class=\"dataframe\">\n",
              "  <thead>\n",
              "    <tr style=\"text-align: right;\">\n",
              "      <th></th>\n",
              "      <th>order_id</th>\n",
              "      <th>food_price</th>\n",
              "      <th>rating</th>\n",
              "      <th>days</th>\n",
              "      <th>time</th>\n",
              "    </tr>\n",
              "  </thead>\n",
              "  <tbody>\n",
              "    <tr>\n",
              "      <th>0</th>\n",
              "      <td>FOOD-10455</td>\n",
              "      <td>18900.0</td>\n",
              "      <td>5.0</td>\n",
              "      <td>Sunday</td>\n",
              "      <td>21:00</td>\n",
              "    </tr>\n",
              "    <tr>\n",
              "      <th>1</th>\n",
              "      <td>FOOD-10985</td>\n",
              "      <td>149000.0</td>\n",
              "      <td>5.0</td>\n",
              "      <td>Sunday</td>\n",
              "      <td>18:00</td>\n",
              "    </tr>\n",
              "    <tr>\n",
              "      <th>3</th>\n",
              "      <td>FOOD-10932</td>\n",
              "      <td>39900.0</td>\n",
              "      <td>5.0</td>\n",
              "      <td>Friday</td>\n",
              "      <td>01:00</td>\n",
              "    </tr>\n",
              "    <tr>\n",
              "      <th>5</th>\n",
              "      <td>FOOD-10004</td>\n",
              "      <td>138800.0</td>\n",
              "      <td>5.0</td>\n",
              "      <td>Sunday</td>\n",
              "      <td>14:00</td>\n",
              "    </tr>\n",
              "    <tr>\n",
              "      <th>6</th>\n",
              "      <td>FOOD-10953</td>\n",
              "      <td>58700.0</td>\n",
              "      <td>5.0</td>\n",
              "      <td>Saturday</td>\n",
              "      <td>14:00</td>\n",
              "    </tr>\n",
              "    <tr>\n",
              "      <th>...</th>\n",
              "      <td>...</td>\n",
              "      <td>...</td>\n",
              "      <td>...</td>\n",
              "      <td>...</td>\n",
              "      <td>...</td>\n",
              "    </tr>\n",
              "    <tr>\n",
              "      <th>1068</th>\n",
              "      <td>FOOD-10430</td>\n",
              "      <td>80600.0</td>\n",
              "      <td>5.0</td>\n",
              "      <td>Saturday</td>\n",
              "      <td>16:00</td>\n",
              "    </tr>\n",
              "    <tr>\n",
              "      <th>1071</th>\n",
              "      <td>FOOD-10921</td>\n",
              "      <td>103200.0</td>\n",
              "      <td>5.0</td>\n",
              "      <td>Thursday</td>\n",
              "      <td>15:00</td>\n",
              "    </tr>\n",
              "    <tr>\n",
              "      <th>1072</th>\n",
              "      <td>FOOD-10265</td>\n",
              "      <td>145700.0</td>\n",
              "      <td>5.0</td>\n",
              "      <td>Thursday</td>\n",
              "      <td>15:00</td>\n",
              "    </tr>\n",
              "    <tr>\n",
              "      <th>1074</th>\n",
              "      <td>FOOD-10158</td>\n",
              "      <td>49300.0</td>\n",
              "      <td>5.0</td>\n",
              "      <td>Monday</td>\n",
              "      <td>15:00</td>\n",
              "    </tr>\n",
              "    <tr>\n",
              "      <th>1075</th>\n",
              "      <td>FOOD-10770</td>\n",
              "      <td>43000.0</td>\n",
              "      <td>5.0</td>\n",
              "      <td>Tuesday</td>\n",
              "      <td>14:00</td>\n",
              "    </tr>\n",
              "  </tbody>\n",
              "</table>\n",
              "<p>597 rows × 5 columns</p>\n",
              "</div>"
            ],
            "text/plain": [
              "        order_id  food_price  rating      days   time\n",
              "0     FOOD-10455     18900.0     5.0    Sunday  21:00\n",
              "1     FOOD-10985    149000.0     5.0    Sunday  18:00\n",
              "3     FOOD-10932     39900.0     5.0    Friday  01:00\n",
              "5     FOOD-10004    138800.0     5.0    Sunday  14:00\n",
              "6     FOOD-10953     58700.0     5.0  Saturday  14:00\n",
              "...          ...         ...     ...       ...    ...\n",
              "1068  FOOD-10430     80600.0     5.0  Saturday  16:00\n",
              "1071  FOOD-10921    103200.0     5.0  Thursday  15:00\n",
              "1072  FOOD-10265    145700.0     5.0  Thursday  15:00\n",
              "1074  FOOD-10158     49300.0     5.0    Monday  15:00\n",
              "1075  FOOD-10770     43000.0     5.0   Tuesday  14:00\n",
              "\n",
              "[597 rows x 5 columns]"
            ]
          },
          "metadata": {},
          "execution_count": 111
        }
      ]
    },
    {
      "cell_type": "code",
      "metadata": {
        "id": "esSATy40ADYw"
      },
      "source": [
        "import matplotlib.pyplot as plt\n"
      ],
      "execution_count": 112,
      "outputs": []
    },
    {
      "cell_type": "code",
      "metadata": {
        "id": "psLK8KLZERG4"
      },
      "source": [
        ""
      ],
      "execution_count": 94,
      "outputs": []
    },
    {
      "cell_type": "code",
      "metadata": {
        "colab": {
          "base_uri": "https://localhost:8080/",
          "height": 452
        },
        "id": "7H01yN1-_lXH",
        "outputId": "d28d8c92-7f51-48ff-d761-d86e6c2e64e9"
      },
      "source": [
        "hari = ['Monday', 'Tuesday', 'Wednesday', 'Thursday', 'Friday', 'Saturday', 'Sunday']\n",
        "plot1 = total.groupby(['days']).size().reindex(hari).plot(kind='bar', figsize = (10,6), ylabel='jumlah', \n",
        "                                                       title='pengunjung per hari')\n",
        "\n",
        "plot1.figure.savefig('freq-over-days.jpg')"
      ],
      "execution_count": 113,
      "outputs": [
        {
          "output_type": "display_data",
          "data": {
            "image/png": "[encoded data removed]",
            "text/plain": [
              "<Figure size 720x432 with 1 Axes>"
            ]
          },
          "metadata": {
            "needs_background": "light"
          }
        }
      ]
    }
  ]
}